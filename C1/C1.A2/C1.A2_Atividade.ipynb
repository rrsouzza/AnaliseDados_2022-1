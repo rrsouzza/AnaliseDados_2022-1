{
 "cells": [
  {
   "cell_type": "code",
   "execution_count": null,
   "metadata": {},
   "outputs": [],
   "source": [
    "import numpy as np\n",
    "import pandas as pd"
   ]
  },
  {
   "cell_type": "code",
   "execution_count": null,
   "metadata": {},
   "outputs": [],
   "source": [
    "index = ['Firefox', 'Chrome', 'Safari', 'IE10', 'Konqueror']\n",
    "\n",
    "navegadores = pd.DataFrame({'http_status': [200, 200, 404, 404, 301],\n",
    "                            'response_time': [0.04, 0.02, 0.07, 0.08, 1.0]},\n",
    "                             index=index)\n",
    "navegadores"
   ]
  },
  {
   "cell_type": "code",
   "execution_count": null,
   "metadata": {},
   "outputs": [],
   "source": [
    "#Ex 1. a.\n",
    "navegadores[navegadores['http_status'] == 200]"
   ]
  },
  {
   "cell_type": "code",
   "execution_count": null,
   "metadata": {},
   "outputs": [],
   "source": [
    "#Ex 1. b.\n",
    "navegadores[navegadores['response_time'] < 0.08]"
   ]
  },
  {
   "cell_type": "code",
   "execution_count": null,
   "metadata": {},
   "outputs": [],
   "source": [
    "#Ex 1. c.\n",
    "new_index = ['Safari', 'Iceweasel', 'Comodo Dragon', 'IE10', 'Chrome']\n",
    "\n",
    "navegadores2 = navegadores.reindex(new_index, fill_value=0)\n",
    "\n",
    "navegadores\n",
    "#O DataFrame original não foi modificado."
   ]
  },
  {
   "cell_type": "code",
   "execution_count": null,
   "metadata": {},
   "outputs": [],
   "source": [
    "#Ex 1. d.\n",
    "navegadores[navegadores['http_status'] == 200]\n",
    "\n",
    "#Resultado igual pois o DataFrame original continua intacto."
   ]
  },
  {
   "cell_type": "code",
   "execution_count": null,
   "metadata": {},
   "outputs": [],
   "source": [
    "#Ex 1. d.\n",
    "navegadores[navegadores['response_time'] < 0.08]\n",
    "\n",
    "#Resultado igual pois o DataFrame original continua intacto."
   ]
  },
  {
   "cell_type": "code",
   "execution_count": null,
   "metadata": {},
   "outputs": [],
   "source": [
    "#Ex1. e.\n",
    "\n",
    "navegadores2.loc['Iceweasel', 'http_status'] = 501\n",
    "navegadores2.loc['Iceweasel', 'response_time'] = 10.0\n",
    "\n",
    "navegadores2\n",
    "\n",
    "#DataFrame após trocar os valores"
   ]
  },
  {
   "cell_type": "code",
   "execution_count": null,
   "metadata": {},
   "outputs": [],
   "source": [
    "#Ex1. f.\n",
    "navegadores2.loc['Comodo Dragon', 'http_status'] = 503\n",
    "navegadores2.loc['Comodo Dragon', 'response_time'] = 8.0\n",
    "\n",
    "navegadores2\n",
    "\n",
    "#DataFrame após trocar os valores"
   ]
  },
  {
   "cell_type": "code",
   "execution_count": null,
   "metadata": {},
   "outputs": [],
   "source": [
    "#Ex 1. g.\n",
    "\n",
    "indexNavegadores = navegadores.index\n",
    "indexNavegadores2 = navegadores2.index\n",
    "\n",
    "\n",
    "diff_index = indexNavegadores.difference(indexNavegadores2)\n",
    "diff_index"
   ]
  },
  {
   "cell_type": "code",
   "execution_count": null,
   "metadata": {
    "scrolled": true
   },
   "outputs": [],
   "source": [
    "#Ex 1. g.\n",
    "\n",
    "novaLinha1 = navegadores.loc[diff_index[0],'http_status'], navegadores.loc[diff_index[0],'response_time']\n",
    "novaLinha2 = navegadores.loc[diff_index[1],'http_status'], navegadores.loc[diff_index[1],'response_time']\n",
    "\n",
    "navegadores2.loc[diff_index[0]] = novaLinha1\n",
    "navegadores2.loc[diff_index[1]] = novaLinha2\n",
    "\n",
    "navegadores2"
   ]
  },
  {
   "cell_type": "code",
   "execution_count": null,
   "metadata": {},
   "outputs": [],
   "source": [
    "#Ex 1. h.\n",
    "\n",
    "#versions = [14.0, 38.8, 80.0, 10.0, 99.0, 98.0, 21.12]\n",
    "versions = ['14.0', '38.8', '80.0', '10.0', '99.0', '98.0', '21.12']\n",
    "#String permite manter a formatação correta dos números após o ponto (.)\n",
    "\n",
    "navegadores2[\"version\"] = versions\n",
    "\n",
    "navegadores2"
   ]
  },
  {
   "cell_type": "code",
   "execution_count": null,
   "metadata": {},
   "outputs": [],
   "source": [
    "#Ex 2. a. -dropna\n",
    "\n",
    "index = [0, 1, np.nan, 3, 4]\n",
    "df = pd.DataFrame({\"nome\": ['Alfredo', 'Alfredo', 'José', 'Jailson', 'Jeriscleide'],\n",
    "                   \"sobrenome\": ['Obscuro', 'Obscuro', 'Toledo', 'Mendes', 'Johannesburgo'],\n",
    "                   \"idade\": [40, 40, np.nan, 45, 120],\n",
    "                   \"cidade_natal\": ['Brasília', 'Brasília', np.nan, 'Vitória', np.nan]},\n",
    "                    index=index)\n",
    "df"
   ]
  },
  {
   "cell_type": "code",
   "execution_count": null,
   "metadata": {},
   "outputs": [],
   "source": [
    "#Ex 2. a. -dropna\n",
    "\n",
    "df.dropna()"
   ]
  },
  {
   "cell_type": "code",
   "execution_count": null,
   "metadata": {},
   "outputs": [],
   "source": [
    "#Ex 2. a. -drop_duplicates\n",
    "\n",
    "df.drop_duplicates()"
   ]
  },
  {
   "cell_type": "code",
   "execution_count": null,
   "metadata": {},
   "outputs": [],
   "source": [
    "#Ex 2. b. -merge\n",
    "\n",
    "merge_test1 = pd.DataFrame({'col_esq': ['abc', 'def', 'ghi', 'jkl'],\n",
    "                    'value': [1, 2, 3, 4]})\n",
    "merge_test1"
   ]
  },
  {
   "cell_type": "code",
   "execution_count": null,
   "metadata": {},
   "outputs": [],
   "source": [
    "#Ex 2. b. -merge\n",
    "\n",
    "merge_test2 = pd.DataFrame({'col_dir': ['abc', 'def', 'ghi', 'jkl'],\n",
    "                    'value': [5, 6, 7, 8]})\n",
    "merge_test2"
   ]
  },
  {
   "cell_type": "code",
   "execution_count": null,
   "metadata": {},
   "outputs": [],
   "source": [
    "#Ex 2. b. -merge\n",
    "\n",
    "merge_test1.merge(merge_test2, left_on='col_esq', right_on='col_dir')"
   ]
  },
  {
   "cell_type": "code",
   "execution_count": null,
   "metadata": {},
   "outputs": [],
   "source": [
    "#Ex 2. b. -concat\n",
    "\n",
    "concat_test1 = pd.DataFrame([['João', 31], ['José', 25]],\n",
    "                   columns=['nome', 'idade'])\n",
    "concat_test1"
   ]
  },
  {
   "cell_type": "code",
   "execution_count": null,
   "metadata": {},
   "outputs": [],
   "source": [
    "#Ex 2. b. -concat\n",
    "\n",
    "concat_test2 = pd.DataFrame([['Josanilde', 33], ['Joana', 4]],\n",
    "                   columns=['nome', 'idade'])\n",
    "concat_test2"
   ]
  },
  {
   "cell_type": "code",
   "execution_count": null,
   "metadata": {},
   "outputs": [],
   "source": [
    "#Ex 2. b. -concat\n",
    "\n",
    "pd.concat([concat_test1, concat_test2])"
   ]
  },
  {
   "cell_type": "code",
   "execution_count": null,
   "metadata": {},
   "outputs": [],
   "source": [
    "#Ex 2. c. -groupby\n",
    "\n",
    "groupby_test = pd.DataFrame({'Animal': ['Falcão', 'Falcão', 'Periquito', 'Periquito'],\n",
    "                             'Vel. Máxima': [140., 142., 24., 26.]})\n",
    "groupby_test"
   ]
  },
  {
   "cell_type": "code",
   "execution_count": null,
   "metadata": {},
   "outputs": [],
   "source": [
    "#Ex 2. c. -groupby\n",
    "\n",
    "groupby_test.groupby(['Animal']).mean()"
   ]
  },
  {
   "cell_type": "code",
   "execution_count": null,
   "metadata": {},
   "outputs": [],
   "source": []
  }
 ],
 "metadata": {
  "kernelspec": {
   "display_name": "Python 3 (ipykernel)",
   "language": "python",
   "name": "python3"
  },
  "language_info": {
   "codemirror_mode": {
    "name": "ipython",
    "version": 3
   },
   "file_extension": ".py",
   "mimetype": "text/x-python",
   "name": "python",
   "nbconvert_exporter": "python",
   "pygments_lexer": "ipython3",
   "version": "3.8.10"
  }
 },
 "nbformat": 4,
 "nbformat_minor": 2
}
