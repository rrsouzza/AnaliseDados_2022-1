{
 "cells": [
  {
   "cell_type": "markdown",
   "metadata": {},
   "source": [
    "<h4>1 - Na página 68 temos um dicionário chamado \"dados\", nele há informações das populações dos estados de Ohio e Nevada, entre os anos 2000 e 2002. Utilizando o dicionário na forma que está e o atributo columns do comando pd.DataFrame, crie um objeto DataFrame com as colunas na seguinte ordem: year, state e pop.</h4>"
   ]
  },
  {
   "cell_type": "code",
   "execution_count": 1,
   "metadata": {},
   "outputs": [],
   "source": [
    "import numpy as np\n",
    "import pandas as pd"
   ]
  },
  {
   "cell_type": "code",
   "execution_count": 2,
   "metadata": {},
   "outputs": [],
   "source": [
    "dados = {'state': ['Ohio', 'Ohio', 'Ohio', 'Nevada', 'Nevada', 'Nevada'],\n",
    "'year': [2000, 2001, 2002, 2001, 2002, 2003],\n",
    "'pop': [1.5, 1.7, 3.6, 2.4, 2.9, 3.2]\n",
    "}"
   ]
  },
  {
   "cell_type": "code",
   "execution_count": 3,
   "metadata": {},
   "outputs": [
    {
     "data": {
      "text/html": [
       "<div>\n",
       "<style scoped>\n",
       "    .dataframe tbody tr th:only-of-type {\n",
       "        vertical-align: middle;\n",
       "    }\n",
       "\n",
       "    .dataframe tbody tr th {\n",
       "        vertical-align: top;\n",
       "    }\n",
       "\n",
       "    .dataframe thead th {\n",
       "        text-align: right;\n",
       "    }\n",
       "</style>\n",
       "<table border=\"1\" class=\"dataframe\">\n",
       "  <thead>\n",
       "    <tr style=\"text-align: right;\">\n",
       "      <th></th>\n",
       "      <th>state</th>\n",
       "      <th>year</th>\n",
       "      <th>pop</th>\n",
       "    </tr>\n",
       "  </thead>\n",
       "  <tbody>\n",
       "    <tr>\n",
       "      <th>0</th>\n",
       "      <td>Ohio</td>\n",
       "      <td>2000</td>\n",
       "      <td>1.5</td>\n",
       "    </tr>\n",
       "    <tr>\n",
       "      <th>1</th>\n",
       "      <td>Ohio</td>\n",
       "      <td>2001</td>\n",
       "      <td>1.7</td>\n",
       "    </tr>\n",
       "    <tr>\n",
       "      <th>2</th>\n",
       "      <td>Ohio</td>\n",
       "      <td>2002</td>\n",
       "      <td>3.6</td>\n",
       "    </tr>\n",
       "    <tr>\n",
       "      <th>3</th>\n",
       "      <td>Nevada</td>\n",
       "      <td>2001</td>\n",
       "      <td>2.4</td>\n",
       "    </tr>\n",
       "    <tr>\n",
       "      <th>4</th>\n",
       "      <td>Nevada</td>\n",
       "      <td>2002</td>\n",
       "      <td>2.9</td>\n",
       "    </tr>\n",
       "    <tr>\n",
       "      <th>5</th>\n",
       "      <td>Nevada</td>\n",
       "      <td>2003</td>\n",
       "      <td>3.2</td>\n",
       "    </tr>\n",
       "  </tbody>\n",
       "</table>\n",
       "</div>"
      ],
      "text/plain": [
       "    state  year  pop\n",
       "0    Ohio  2000  1.5\n",
       "1    Ohio  2001  1.7\n",
       "2    Ohio  2002  3.6\n",
       "3  Nevada  2001  2.4\n",
       "4  Nevada  2002  2.9\n",
       "5  Nevada  2003  3.2"
      ]
     },
     "execution_count": 3,
     "metadata": {},
     "output_type": "execute_result"
    }
   ],
   "source": [
    "populacao = pd.DataFrame(dados)\n",
    "populacao"
   ]
  },
  {
   "cell_type": "code",
   "execution_count": 4,
   "metadata": {},
   "outputs": [
    {
     "data": {
      "text/html": [
       "<div>\n",
       "<style scoped>\n",
       "    .dataframe tbody tr th:only-of-type {\n",
       "        vertical-align: middle;\n",
       "    }\n",
       "\n",
       "    .dataframe tbody tr th {\n",
       "        vertical-align: top;\n",
       "    }\n",
       "\n",
       "    .dataframe thead th {\n",
       "        text-align: right;\n",
       "    }\n",
       "</style>\n",
       "<table border=\"1\" class=\"dataframe\">\n",
       "  <thead>\n",
       "    <tr style=\"text-align: right;\">\n",
       "      <th></th>\n",
       "      <th>year</th>\n",
       "      <th>state</th>\n",
       "      <th>pop</th>\n",
       "    </tr>\n",
       "  </thead>\n",
       "  <tbody>\n",
       "    <tr>\n",
       "      <th>0</th>\n",
       "      <td>2000</td>\n",
       "      <td>Ohio</td>\n",
       "      <td>1.5</td>\n",
       "    </tr>\n",
       "    <tr>\n",
       "      <th>1</th>\n",
       "      <td>2001</td>\n",
       "      <td>Ohio</td>\n",
       "      <td>1.7</td>\n",
       "    </tr>\n",
       "    <tr>\n",
       "      <th>2</th>\n",
       "      <td>2002</td>\n",
       "      <td>Ohio</td>\n",
       "      <td>3.6</td>\n",
       "    </tr>\n",
       "    <tr>\n",
       "      <th>3</th>\n",
       "      <td>2001</td>\n",
       "      <td>Nevada</td>\n",
       "      <td>2.4</td>\n",
       "    </tr>\n",
       "    <tr>\n",
       "      <th>4</th>\n",
       "      <td>2002</td>\n",
       "      <td>Nevada</td>\n",
       "      <td>2.9</td>\n",
       "    </tr>\n",
       "    <tr>\n",
       "      <th>5</th>\n",
       "      <td>2003</td>\n",
       "      <td>Nevada</td>\n",
       "      <td>3.2</td>\n",
       "    </tr>\n",
       "  </tbody>\n",
       "</table>\n",
       "</div>"
      ],
      "text/plain": [
       "   year   state  pop\n",
       "0  2000    Ohio  1.5\n",
       "1  2001    Ohio  1.7\n",
       "2  2002    Ohio  3.6\n",
       "3  2001  Nevada  2.4\n",
       "4  2002  Nevada  2.9\n",
       "5  2003  Nevada  3.2"
      ]
     },
     "execution_count": 4,
     "metadata": {},
     "output_type": "execute_result"
    }
   ],
   "source": [
    "populacao = pd.DataFrame(dados, columns=[\"year\", \"state\", \"pop\"])\n",
    "populacao"
   ]
  },
  {
   "cell_type": "markdown",
   "metadata": {},
   "source": [
    "<h4>2 - A partir do DataFrame do exercício anterior, adicione uma coluna denominada debt com valores gerados a partir do range de -12 a 0 saltando de 2 em 2.</h4>"
   ]
  },
  {
   "cell_type": "code",
   "execution_count": null,
   "metadata": {},
   "outputs": [],
   "source": [
    "populacao[\"debt\"] = np.arange(-12, 0, 2)\n",
    "populacao"
   ]
  },
  {
   "cell_type": "markdown",
   "metadata": {},
   "source": [
    "<h4>3 - Utilizando de programação, analise em que ano a população de Ohio passou a população de Nevada.</4>"
   ]
  },
  {
   "cell_type": "markdown",
   "metadata": {},
   "source": [
    "<h5>Solução 1</h5>"
   ]
  },
  {
   "cell_type": "code",
   "execution_count": null,
   "metadata": {},
   "outputs": [],
   "source": [
    "ohio = populacao.loc[populacao.state == \"Ohio\"]\n",
    "ohio"
   ]
  },
  {
   "cell_type": "code",
   "execution_count": null,
   "metadata": {},
   "outputs": [],
   "source": [
    "nevada = populacao.loc[populacao.state == \"Nevada\"]\n",
    "nevada"
   ]
  },
  {
   "cell_type": "code",
   "execution_count": null,
   "metadata": {},
   "outputs": [],
   "source": [
    "for y_ohio, p_ohio in ohio[[\"year\", \"pop\"]].values:\n",
    "    for y_nevada, p_nevada in nevada[[\"year\", \"pop\"]].values:\n",
    "        if y_ohio == y_nevada:\n",
    "            if p_ohio > p_nevada:\n",
    "                print(f\"Nevada passou a população de Ohio em {y_ohio}, com uma população de {p_ohio} habitantes.\")\n",
    "        else:\n",
    "            continue"
   ]
  },
  {
   "cell_type": "markdown",
   "metadata": {},
   "source": [
    "<h5>Solução 2</h5>"
   ]
  },
  {
   "cell_type": "code",
   "execution_count": null,
   "metadata": {},
   "outputs": [],
   "source": [
    "populacao.pivot(index='year', columns='state', values='pop')"
   ]
  },
  {
   "cell_type": "code",
   "execution_count": null,
   "metadata": {},
   "outputs": [],
   "source": [
    "populacao.pivot(index='year', columns='state', values='pop').reset_index()"
   ]
  },
  {
   "cell_type": "code",
   "execution_count": null,
   "metadata": {},
   "outputs": [],
   "source": [
    "populacao.pivot(index='year', columns='state', values='pop').reset_index().query('Ohio > Nevada')"
   ]
  },
  {
   "cell_type": "code",
   "execution_count": null,
   "metadata": {},
   "outputs": [],
   "source": [
    "populacao.pivot(index='year', columns='state', values='pop').reset_index().query('Ohio > Nevada').to_dict(orient='records')"
   ]
  },
  {
   "cell_type": "code",
   "execution_count": null,
   "metadata": {},
   "outputs": [],
   "source": [
    "ohio_greater = populacao.pivot(index='year', columns='state', values='pop').reset_index().query('Ohio > Nevada').to_dict(orient='records')\n",
    "for o in ohio_greater:\n",
    "    print(f'Nevada passou a população de Ohio em {o[\"year\"]}, com uma população de {o[\"Ohio\"]} habitantes.')"
   ]
  },
  {
   "cell_type": "markdown",
   "metadata": {},
   "source": [
    "<h5>Solução 3</h5>"
   ]
  },
  {
   "cell_type": "code",
   "execution_count": null,
   "metadata": {},
   "outputs": [],
   "source": [
    "ohio.merge(nevada, on='year', suffixes=['_ohio', '_nevada'])"
   ]
  },
  {
   "cell_type": "code",
   "execution_count": null,
   "metadata": {},
   "outputs": [],
   "source": [
    "ohio.merge(nevada, on='year', suffixes=['_ohio', '_nevada']).query('pop_ohio > pop_nevada')"
   ]
  },
  {
   "cell_type": "code",
   "execution_count": null,
   "metadata": {},
   "outputs": [],
   "source": [
    "ohio.merge(nevada, on='year', suffixes=['_ohio', '_nevada']).query('pop_ohio > pop_nevada').to_dict(orient='records')"
   ]
  },
  {
   "cell_type": "code",
   "execution_count": null,
   "metadata": {},
   "outputs": [],
   "source": [
    "ohio_nevada = ohio.merge(nevada, on='year', suffixes=['_ohio', '_nevada']).query('pop_ohio > pop_nevada')\n",
    "for o in ohio_nevada.to_dict(orient='records'):\n",
    "    print(f'Nevada passou a população de Ohio em {o[\"year\"]}, com uma população de {o[\"pop_ohio\"]} habitantes.')"
   ]
  },
  {
   "cell_type": "markdown",
   "metadata": {},
   "source": [
    "<h5>Solução 4</h5>"
   ]
  },
  {
   "cell_type": "code",
   "execution_count": null,
   "metadata": {},
   "outputs": [],
   "source": [
    "def max_state(df):\n",
    "    print(\"*1*\", df)\n",
    "    print()\n",
    "    if len(df) == 2:\n",
    "        print(\"*2*\", df.sort_values(by='pop', ascending=False)[['state', 'pop']])\n",
    "        print()\n",
    "        print(\"*3*\", df.sort_values(by='pop', ascending=False)[['state', 'pop']][:1])\n",
    "        print()\n",
    "        print()\n",
    "        return df.sort_values(by='pop', ascending=False)[['state', 'pop']][:1]\n",
    "    else:\n",
    "        return None"
   ]
  },
  {
   "cell_type": "code",
   "execution_count": null,
   "metadata": {},
   "outputs": [],
   "source": [
    "populacao.groupby('year').apply(max_state).reset_index()"
   ]
  },
  {
   "cell_type": "code",
   "execution_count": null,
   "metadata": {},
   "outputs": [],
   "source": [
    "def max_state(df):\n",
    "    if len(df) == 2:\n",
    "        return df.sort_values(by='pop', ascending=False)[['state', 'pop']][:1]\n",
    "    else:\n",
    "        return None\n",
    "\n",
    "x = populacao.groupby('year').apply(max_state).reset_index()\n",
    "for o in x.query('state == \"Ohio\"').to_dict(orient='records'):\n",
    "    print(f'Nevada passou a população de Ohio em {o[\"year\"]}, com uma população de {o[\"pop\"]} habitantes.')"
   ]
  },
  {
   "cell_type": "markdown",
   "metadata": {},
   "source": [
    "<h4>4 - Calcule as médias das populações de Ohio e Nevada. Indique em que ano Ohio teve a maior dívida e indique em que ano Nevada teve a menor dívida.</h4>"
   ]
  },
  {
   "cell_type": "code",
   "execution_count": null,
   "metadata": {},
   "outputs": [],
   "source": [
    "populacao.groupby('state').agg({'pop' : np.mean}).reset_index().rename(columns={\"pop\": \"pop_mean\"})"
   ]
  },
  {
   "cell_type": "code",
   "execution_count": null,
   "metadata": {},
   "outputs": [],
   "source": [
    "min_debt = populacao.groupby('state').agg({'debt' : np.min}).reset_index()\n",
    "max_debt = populacao.groupby('state').agg({'debt' : \"max\"}).reset_index()"
   ]
  },
  {
   "cell_type": "code",
   "execution_count": null,
   "metadata": {},
   "outputs": [],
   "source": [
    "dict_nevada = min_debt.loc[min_debt.state == \"Nevada\"].to_dict(orient='records')[0]\n",
    "dict_ohio = max_debt.loc[max_debt.state == \"Ohio\"].to_dict(orient='records')[0]"
   ]
  },
  {
   "cell_type": "code",
   "execution_count": null,
   "metadata": {},
   "outputs": [],
   "source": [
    "populacao.loc[((populacao.state == dict_nevada[\"state\"]) & (populacao.debt == dict_nevada[\"debt\"])), [\"state\", \"year\", \"debt\"]]"
   ]
  },
  {
   "cell_type": "code",
   "execution_count": null,
   "metadata": {},
   "outputs": [],
   "source": [
    "populacao.loc[((populacao.state == dict_ohio[\"state\"]) & (populacao.debt == dict_ohio[\"debt\"])), [\"state\", \"year\", \"debt\"]]"
   ]
  },
  {
   "cell_type": "markdown",
   "metadata": {},
   "source": [
    "<h4>5 - Leia sobre o funcionamento dos métodos bfill e ffill. Utilizando o objeto populacao_anual da página 69, crie o seguinte DataFrame: pd.DataFrame(populacao_anual, index=[2000, 2001, 2002, 2003]). Substitua o valor ausente utilizando o método bfill a população de Nevada no ano 2000. Substitua os valores ausentes utilizando ffill as populações de Ohio e Nevada no ano de 2003.</h4>"
   ]
  },
  {
   "cell_type": "code",
   "execution_count": null,
   "metadata": {},
   "outputs": [],
   "source": [
    "populacao_anual = {'Nevada': {2001: 2.4, 2002: 2.9}, 'Ohio': {2000: 1.5, 2001: 1.7, 2002: 3.6}}"
   ]
  },
  {
   "cell_type": "code",
   "execution_count": null,
   "metadata": {},
   "outputs": [],
   "source": [
    "df_populacao_anual = pd.DataFrame(populacao_anual, index=[2000, 2001, 2002, 2003])"
   ]
  },
  {
   "cell_type": "code",
   "execution_count": null,
   "metadata": {},
   "outputs": [],
   "source": [
    "df_populacao_anual"
   ]
  },
  {
   "cell_type": "code",
   "execution_count": null,
   "metadata": {},
   "outputs": [],
   "source": [
    "df_populacao_anual.fillna(method=\"bfill\", inplace=True)\n",
    "df_populacao_anual.fillna(method=\"ffill\", inplace=True)\n",
    "df_populacao_anual"
   ]
  },
  {
   "cell_type": "markdown",
   "metadata": {},
   "source": [
    "<h4>6 - Utilizando o objeto populacao_anual da página 69, crie o seguinte DataFrame: pd.DataFrame(populacao_anual, index=[2001, 2002, 2003]). Utilizando o método fillna, preencha os valores ausentes com a média de cada cidade.</h4>"
   ]
  },
  {
   "cell_type": "code",
   "execution_count": null,
   "metadata": {},
   "outputs": [],
   "source": [
    "df_populacao_anual_novo = pd.DataFrame(populacao_anual, index=[2001, 2002, 2003])"
   ]
  },
  {
   "cell_type": "code",
   "execution_count": null,
   "metadata": {},
   "outputs": [],
   "source": [
    "df_populacao_anual_novo"
   ]
  },
  {
   "cell_type": "code",
   "execution_count": null,
   "metadata": {},
   "outputs": [],
   "source": [
    "df_populacao_anual_novo.fillna(df_populacao_anual.mean(), inplace=True)\n",
    "df_populacao_anual_novo"
   ]
  }
 ],
 "metadata": {
  "kernelspec": {
   "display_name": "Python 3 (ipykernel)",
   "language": "python",
   "name": "python3"
  },
  "language_info": {
   "codemirror_mode": {
    "name": "ipython",
    "version": 3
   },
   "file_extension": ".py",
   "mimetype": "text/x-python",
   "name": "python",
   "nbconvert_exporter": "python",
   "pygments_lexer": "ipython3",
   "version": "3.8.10"
  }
 },
 "nbformat": 4,
 "nbformat_minor": 2
}
